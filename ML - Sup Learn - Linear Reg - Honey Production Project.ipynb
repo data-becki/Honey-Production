{
 "cells": [
  {
   "cell_type": "markdown",
   "id": "ace35734",
   "metadata": {},
   "source": [
    "# Honey Production\n",
    "\n",
    "Now that you have learned how linear regression works, let’s try it on an example of real-world data.\n",
    "\n",
    "As you may have already heard, the honeybees are in a precarious state right now. You may have seen articles about the decline of the honeybee population for various reasons. You want to investigate this decline and how the trends of the past predict the future for the honeybees.\n",
    "\n",
    "Note: All the tasks can be completed using Pandas or NumPy. Pick whichever one you prefer."
   ]
  },
  {
   "cell_type": "markdown",
   "id": "d7b34276",
   "metadata": {},
   "source": [
    "## Check out the Data"
   ]
  },
  {
   "cell_type": "markdown",
   "id": "59d63094",
   "metadata": {},
   "source": [
    "1. We have loaded in a DataFrame for you about honey production in the United States from <a hreg=\"https://www.kaggle.com/\" target=\"_blank\">Kaggle</a>. It is called `df` and has the following columns:\n",
    "\n",
    "    -    `state`\n",
    "    -    `numcol`\n",
    "    -    `yieldpercol`\n",
    "    -    `totalprod`\n",
    "    -    `stocks`\n",
    "    -    `priceperlb`\n",
    "    -    `prodvalue`\n",
    "    -    `year`\n",
    "\n",
    "   Use `.head()` to get a sense of how this DataFrame is structured.\n"
   ]
  },
  {
   "cell_type": "code",
   "execution_count": 1,
   "id": "ccb5c985",
   "metadata": {},
   "outputs": [],
   "source": [
    "import pandas as pd\n",
    "import matplotlib.pyplot as plt\n",
    "import numpy as np\n",
    "from sklearn import linear_model\n",
    "\n",
    "# df = pd.read_csv(\"https://content.codecademy.com/programs/data-science-path/linear_regression/honeyproduction.csv\")\n",
    "df = pd.read_csv(\"honeyproduction.csv\")"
   ]
  },
  {
   "cell_type": "code",
   "execution_count": 2,
   "id": "2cc23ec5",
   "metadata": {
    "scrolled": true
   },
   "outputs": [
    {
     "data": {
      "text/html": [
       "<div>\n",
       "<style scoped>\n",
       "    .dataframe tbody tr th:only-of-type {\n",
       "        vertical-align: middle;\n",
       "    }\n",
       "\n",
       "    .dataframe tbody tr th {\n",
       "        vertical-align: top;\n",
       "    }\n",
       "\n",
       "    .dataframe thead th {\n",
       "        text-align: right;\n",
       "    }\n",
       "</style>\n",
       "<table border=\"1\" class=\"dataframe\">\n",
       "  <thead>\n",
       "    <tr style=\"text-align: right;\">\n",
       "      <th></th>\n",
       "      <th>state</th>\n",
       "      <th>numcol</th>\n",
       "      <th>yieldpercol</th>\n",
       "      <th>totalprod</th>\n",
       "      <th>stocks</th>\n",
       "      <th>priceperlb</th>\n",
       "      <th>prodvalue</th>\n",
       "      <th>year</th>\n",
       "    </tr>\n",
       "  </thead>\n",
       "  <tbody>\n",
       "    <tr>\n",
       "      <th>0</th>\n",
       "      <td>AL</td>\n",
       "      <td>16000.0</td>\n",
       "      <td>71</td>\n",
       "      <td>1136000.0</td>\n",
       "      <td>159000.0</td>\n",
       "      <td>0.72</td>\n",
       "      <td>818000.0</td>\n",
       "      <td>1998</td>\n",
       "    </tr>\n",
       "    <tr>\n",
       "      <th>1</th>\n",
       "      <td>AZ</td>\n",
       "      <td>55000.0</td>\n",
       "      <td>60</td>\n",
       "      <td>3300000.0</td>\n",
       "      <td>1485000.0</td>\n",
       "      <td>0.64</td>\n",
       "      <td>2112000.0</td>\n",
       "      <td>1998</td>\n",
       "    </tr>\n",
       "    <tr>\n",
       "      <th>2</th>\n",
       "      <td>AR</td>\n",
       "      <td>53000.0</td>\n",
       "      <td>65</td>\n",
       "      <td>3445000.0</td>\n",
       "      <td>1688000.0</td>\n",
       "      <td>0.59</td>\n",
       "      <td>2033000.0</td>\n",
       "      <td>1998</td>\n",
       "    </tr>\n",
       "    <tr>\n",
       "      <th>3</th>\n",
       "      <td>CA</td>\n",
       "      <td>450000.0</td>\n",
       "      <td>83</td>\n",
       "      <td>37350000.0</td>\n",
       "      <td>12326000.0</td>\n",
       "      <td>0.62</td>\n",
       "      <td>23157000.0</td>\n",
       "      <td>1998</td>\n",
       "    </tr>\n",
       "    <tr>\n",
       "      <th>4</th>\n",
       "      <td>CO</td>\n",
       "      <td>27000.0</td>\n",
       "      <td>72</td>\n",
       "      <td>1944000.0</td>\n",
       "      <td>1594000.0</td>\n",
       "      <td>0.70</td>\n",
       "      <td>1361000.0</td>\n",
       "      <td>1998</td>\n",
       "    </tr>\n",
       "  </tbody>\n",
       "</table>\n",
       "</div>"
      ],
      "text/plain": [
       "  state    numcol  yieldpercol   totalprod      stocks  priceperlb  \\\n",
       "0    AL   16000.0           71   1136000.0    159000.0        0.72   \n",
       "1    AZ   55000.0           60   3300000.0   1485000.0        0.64   \n",
       "2    AR   53000.0           65   3445000.0   1688000.0        0.59   \n",
       "3    CA  450000.0           83  37350000.0  12326000.0        0.62   \n",
       "4    CO   27000.0           72   1944000.0   1594000.0        0.70   \n",
       "\n",
       "    prodvalue  year  \n",
       "0    818000.0  1998  \n",
       "1   2112000.0  1998  \n",
       "2   2033000.0  1998  \n",
       "3  23157000.0  1998  \n",
       "4   1361000.0  1998  "
      ]
     },
     "execution_count": 2,
     "metadata": {},
     "output_type": "execute_result"
    }
   ],
   "source": [
    "df.head()"
   ]
  },
  {
   "cell_type": "markdown",
   "id": "4e4b9e15",
   "metadata": {},
   "source": [
    "2. For now, we care about the total production of honey per year. Use the `.groupby()` method provided by pandas to get the mean of `totalprod` per year.\n",
    "\n",
    "    Store this in a variable called `prod_per_year`.\n"
   ]
  },
  {
   "cell_type": "code",
   "execution_count": 3,
   "id": "89edc0c6",
   "metadata": {},
   "outputs": [
    {
     "data": {
      "text/html": [
       "<div>\n",
       "<style scoped>\n",
       "    .dataframe tbody tr th:only-of-type {\n",
       "        vertical-align: middle;\n",
       "    }\n",
       "\n",
       "    .dataframe tbody tr th {\n",
       "        vertical-align: top;\n",
       "    }\n",
       "\n",
       "    .dataframe thead th {\n",
       "        text-align: right;\n",
       "    }\n",
       "</style>\n",
       "<table border=\"1\" class=\"dataframe\">\n",
       "  <thead>\n",
       "    <tr style=\"text-align: right;\">\n",
       "      <th></th>\n",
       "      <th>year</th>\n",
       "      <th>totalprod</th>\n",
       "    </tr>\n",
       "  </thead>\n",
       "  <tbody>\n",
       "    <tr>\n",
       "      <th>0</th>\n",
       "      <td>1998</td>\n",
       "      <td>5.105093e+06</td>\n",
       "    </tr>\n",
       "    <tr>\n",
       "      <th>1</th>\n",
       "      <td>1999</td>\n",
       "      <td>4.706674e+06</td>\n",
       "    </tr>\n",
       "    <tr>\n",
       "      <th>2</th>\n",
       "      <td>2000</td>\n",
       "      <td>5.106000e+06</td>\n",
       "    </tr>\n",
       "    <tr>\n",
       "      <th>3</th>\n",
       "      <td>2001</td>\n",
       "      <td>4.221545e+06</td>\n",
       "    </tr>\n",
       "    <tr>\n",
       "      <th>4</th>\n",
       "      <td>2002</td>\n",
       "      <td>3.892386e+06</td>\n",
       "    </tr>\n",
       "    <tr>\n",
       "      <th>5</th>\n",
       "      <td>2003</td>\n",
       "      <td>4.122091e+06</td>\n",
       "    </tr>\n",
       "    <tr>\n",
       "      <th>6</th>\n",
       "      <td>2004</td>\n",
       "      <td>4.456805e+06</td>\n",
       "    </tr>\n",
       "    <tr>\n",
       "      <th>7</th>\n",
       "      <td>2005</td>\n",
       "      <td>4.243146e+06</td>\n",
       "    </tr>\n",
       "    <tr>\n",
       "      <th>8</th>\n",
       "      <td>2006</td>\n",
       "      <td>3.761902e+06</td>\n",
       "    </tr>\n",
       "    <tr>\n",
       "      <th>9</th>\n",
       "      <td>2007</td>\n",
       "      <td>3.600512e+06</td>\n",
       "    </tr>\n",
       "    <tr>\n",
       "      <th>10</th>\n",
       "      <td>2008</td>\n",
       "      <td>3.974927e+06</td>\n",
       "    </tr>\n",
       "    <tr>\n",
       "      <th>11</th>\n",
       "      <td>2009</td>\n",
       "      <td>3.626700e+06</td>\n",
       "    </tr>\n",
       "    <tr>\n",
       "      <th>12</th>\n",
       "      <td>2010</td>\n",
       "      <td>4.382350e+06</td>\n",
       "    </tr>\n",
       "    <tr>\n",
       "      <th>13</th>\n",
       "      <td>2011</td>\n",
       "      <td>3.680025e+06</td>\n",
       "    </tr>\n",
       "    <tr>\n",
       "      <th>14</th>\n",
       "      <td>2012</td>\n",
       "      <td>3.522675e+06</td>\n",
       "    </tr>\n",
       "  </tbody>\n",
       "</table>\n",
       "</div>"
      ],
      "text/plain": [
       "    year     totalprod\n",
       "0   1998  5.105093e+06\n",
       "1   1999  4.706674e+06\n",
       "2   2000  5.106000e+06\n",
       "3   2001  4.221545e+06\n",
       "4   2002  3.892386e+06\n",
       "5   2003  4.122091e+06\n",
       "6   2004  4.456805e+06\n",
       "7   2005  4.243146e+06\n",
       "8   2006  3.761902e+06\n",
       "9   2007  3.600512e+06\n",
       "10  2008  3.974927e+06\n",
       "11  2009  3.626700e+06\n",
       "12  2010  4.382350e+06\n",
       "13  2011  3.680025e+06\n",
       "14  2012  3.522675e+06"
      ]
     },
     "execution_count": 3,
     "metadata": {},
     "output_type": "execute_result"
    }
   ],
   "source": [
    "prod_per_year = df.groupby('year').totalprod.mean().reset_index()\n",
    "prod_per_year"
   ]
  },
  {
   "cell_type": "markdown",
   "id": "8adb0bec",
   "metadata": {},
   "source": [
    "3. Create a variable called `X` that is the column of `years` in this `prod_per_year` DataFrame.\n",
    "\n",
    "    After creating `X`, we will need to reshape it to get it into the right format, using this command:\n",
    "\n",
    "        X = X.values.reshape(-1, 1)"
   ]
  },
  {
   "cell_type": "code",
   "execution_count": 4,
   "id": "a30867db",
   "metadata": {},
   "outputs": [],
   "source": [
    "X = prod_per_year['year']\n",
    "X = X.values.reshape(-1, 1)\n",
    "# X"
   ]
  },
  {
   "cell_type": "markdown",
   "id": "f2b27782",
   "metadata": {},
   "source": [
    "4. Create a variable called `y` that is the `totalprod` column in the `prod_per_year` dataset."
   ]
  },
  {
   "cell_type": "code",
   "execution_count": 5,
   "id": "5b8cfa93",
   "metadata": {},
   "outputs": [],
   "source": [
    "y = prod_per_year['totalprod']\n",
    "y = y.values.reshape(-1,1)\n",
    "# y"
   ]
  },
  {
   "cell_type": "markdown",
   "id": "c6ad63c3",
   "metadata": {},
   "source": [
    "5. Using `plt.scatter()`, plot `y` vs `X` as a scatterplot.\n",
    "\n",
    "    Display the plot using `plt.show()`.\n",
    "\n",
    "    Can you see a vaguely linear relationship between these variables?\n"
   ]
  },
  {
   "cell_type": "code",
   "execution_count": 7,
   "id": "e5d40e94",
   "metadata": {},
   "outputs": [
    {
     "data": {
      "image/png": "[encoded data removed]",
      "text/plain": [
       "<Figure size 432x288 with 1 Axes>"
      ]
     },
     "metadata": {
      "needs_background": "light"
     },
     "output_type": "display_data"
    }
   ],
   "source": [
    "plt.scatter(X, y)\n",
    "plt.xlabel('Year')\n",
    "plt.ylabel('Total Honey Production')\n",
    "plt.show()"
   ]
  },
  {
   "cell_type": "markdown",
   "id": "2e6c5f65",
   "metadata": {},
   "source": [
    "## Create and Fit a Linear Regression Model"
   ]
  },
  {
   "cell_type": "markdown",
   "id": "aca54caa",
   "metadata": {},
   "source": [
    "6. Create a linear regression model from `scikit-learn` and call it `regr`.\n",
    "\n",
    "    Use the `LinearRegression()` constructor from the `linear_model` module to do this.\n"
   ]
  },
  {
   "cell_type": "code",
   "execution_count": 8,
   "id": "e1c6fb07",
   "metadata": {},
   "outputs": [],
   "source": [
    "regr = linear_model.LinearRegression()"
   ]
  },
  {
   "cell_type": "markdown",
   "id": "8a0b865c",
   "metadata": {},
   "source": [
    "7. Fit the model to the data by using `.fit()`. You can feed `X` into your `regr` model by passing it in as a parameter of `.fit()`.\n"
   ]
  },
  {
   "cell_type": "code",
   "execution_count": 9,
   "id": "e4547065",
   "metadata": {},
   "outputs": [
    {
     "data": {
      "text/plain": [
       "LinearRegression()"
      ]
     },
     "execution_count": 9,
     "metadata": {},
     "output_type": "execute_result"
    }
   ],
   "source": [
    "regr.fit(X, y)"
   ]
  },
  {
   "cell_type": "markdown",
   "id": "be9a9f92",
   "metadata": {},
   "source": [
    "8. After you have fit the model, print out the slope of the line (stored in a list called `regr.coef_`) and the intercept of the line (`regr.intercept_`).\n"
   ]
  },
  {
   "cell_type": "code",
   "execution_count": 10,
   "id": "06222435",
   "metadata": {
    "scrolled": true
   },
   "outputs": [
    {
     "name": "stdout",
     "output_type": "stream",
     "text": [
      "[[-88303.18915238]] [1.81208083e+08]\n"
     ]
    }
   ],
   "source": [
    "print(regr.coef_, regr.intercept_)"
   ]
  },
  {
   "cell_type": "markdown",
   "id": "b286a2de",
   "metadata": {},
   "source": [
    "*`regr.coef_` is a list with one element.*"
   ]
  },
  {
   "cell_type": "markdown",
   "id": "7abd4841",
   "metadata": {},
   "source": [
    "9. Create a list called `y_predict` that is the predictions your `regr` model would make on the `X` data.\n"
   ]
  },
  {
   "cell_type": "code",
   "execution_count": 11,
   "id": "a65c0c07",
   "metadata": {},
   "outputs": [],
   "source": [
    "y_predict = regr.predict(X)\n",
    "# y_predict"
   ]
  },
  {
   "cell_type": "markdown",
   "id": "f14793b8",
   "metadata": {},
   "source": [
    "10. Plot `y_predict` vs `X` as a line, on top of your scatterplot using `plt.plot()`.\n",
    "\n",
    "    Make sure to call `plt.show()` after plotting the line.\n"
   ]
  },
  {
   "cell_type": "code",
   "execution_count": 13,
   "id": "58c70642",
   "metadata": {},
   "outputs": [
    {
     "data": {
      "image/png": "[encoded data removed]",
      "text/plain": [
       "<Figure size 432x288 with 1 Axes>"
      ]
     },
     "metadata": {
      "needs_background": "light"
     },
     "output_type": "display_data"
    }
   ],
   "source": [
    "plt.plot(X, y, 'o')\n",
    "plt.plot(X, y_predict)\n",
    "plt.xlabel('Year')\n",
    "plt.ylabel('Total Honey Production')\n",
    "plt.show()"
   ]
  },
  {
   "cell_type": "markdown",
   "id": "c2f0c114",
   "metadata": {},
   "source": [
    "## Predict the Honey Decline"
   ]
  },
  {
   "cell_type": "markdown",
   "id": "47f734ae",
   "metadata": {},
   "source": [
    "11. So, it looks like the production of honey has been in decline, according to this linear model. Let’s predict what the year 2050 may look like in terms of honey production.\n",
    "\n",
    "    Our known dataset stops at the year 2013, so let’s create a NumPy array called `X_future` that is the range from 2013 to 2050. The code below makes a NumPy array with the numbers 1 through 10\n",
    "\n",
    "        nums = np.array(range(1, 11))\n",
    "\n",
    "    After creating that array, we need to reshape it for scikit-learn.\n",
    "\n",
    "        X_future = X_future.reshape(-1, 1)\n",
    "\n",
    "    You can think of `reshape()` as rotating this array. Rather than one big row of numbers, `X_future` is now a big column of numbers — there’s one number in each row.\n",
    "\n",
    "    `reshape()` is a little tricky! It might help to print out `X_future` before and after reshaping.\n"
   ]
  },
  {
   "cell_type": "code",
   "execution_count": 15,
   "id": "fbb423ec",
   "metadata": {},
   "outputs": [
    {
     "data": {
      "text/plain": [
       "array([2013, 2014, 2015, 2016, 2017, 2018, 2019, 2020, 2021, 2022, 2023,\n",
       "       2024, 2025, 2026, 2027, 2028, 2029, 2030, 2031, 2032, 2033, 2034,\n",
       "       2035, 2036, 2037, 2038, 2039, 2040, 2041, 2042, 2043, 2044, 2045,\n",
       "       2046, 2047, 2048, 2049, 2050])"
      ]
     },
     "execution_count": 15,
     "metadata": {},
     "output_type": "execute_result"
    }
   ],
   "source": [
    "X_future = np.array(range(2013, 2051))\n",
    "X_future"
   ]
  },
  {
   "cell_type": "code",
   "execution_count": 16,
   "id": "1c3ff5c8",
   "metadata": {},
   "outputs": [
    {
     "data": {
      "text/plain": [
       "array([[2013],\n",
       "       [2014],\n",
       "       [2015],\n",
       "       [2016],\n",
       "       [2017],\n",
       "       [2018],\n",
       "       [2019],\n",
       "       [2020],\n",
       "       [2021],\n",
       "       [2022],\n",
       "       [2023],\n",
       "       [2024],\n",
       "       [2025],\n",
       "       [2026],\n",
       "       [2027],\n",
       "       [2028],\n",
       "       [2029],\n",
       "       [2030],\n",
       "       [2031],\n",
       "       [2032],\n",
       "       [2033],\n",
       "       [2034],\n",
       "       [2035],\n",
       "       [2036],\n",
       "       [2037],\n",
       "       [2038],\n",
       "       [2039],\n",
       "       [2040],\n",
       "       [2041],\n",
       "       [2042],\n",
       "       [2043],\n",
       "       [2044],\n",
       "       [2045],\n",
       "       [2046],\n",
       "       [2047],\n",
       "       [2048],\n",
       "       [2049],\n",
       "       [2050]])"
      ]
     },
     "execution_count": 16,
     "metadata": {},
     "output_type": "execute_result"
    }
   ],
   "source": [
    "X_future = X_future.reshape(-1, 1)\n",
    "X_future "
   ]
  },
  {
   "cell_type": "markdown",
   "id": "18a3f6b1",
   "metadata": {},
   "source": [
    "12. Create a list called `future_predict` that is the y-values that your `regr` model would predict for the values of `X_future`.\n"
   ]
  },
  {
   "cell_type": "code",
   "execution_count": 17,
   "id": "a4f1ea7d",
   "metadata": {},
   "outputs": [],
   "source": [
    "future_predict = regr.predict(X_future)\n",
    "# future_predict"
   ]
  },
  {
   "cell_type": "markdown",
   "id": "0d1f676c",
   "metadata": {},
   "source": [
    "13. Plot `future_predict` vs `X_future` on a different plot.\n",
    "\n",
    "    How much honey will be produced in the year 2050, according to this?\n"
   ]
  },
  {
   "cell_type": "code",
   "execution_count": 19,
   "id": "f43e95ac",
   "metadata": {
    "scrolled": true
   },
   "outputs": [
    {
     "data": {
      "image/png": "[encoded data removed]",
      "text/plain": [
       "<Figure size 432x288 with 1 Axes>"
      ]
     },
     "metadata": {
      "needs_background": "light"
     },
     "output_type": "display_data"
    }
   ],
   "source": [
    "plt.plot(X, y, 'o')\n",
    "plt.plot(X_future, future_predict)\n",
    "plt.xlabel('Year')\n",
    "plt.ylabel('Total Honey Production')\n",
    "plt.show()"
   ]
  },
  {
   "cell_type": "markdown",
   "id": "a0bdc8b5",
   "metadata": {},
   "source": [
    "*It looks like the predicted honey production in 2050 is close to 0.*"
   ]
  }
 ],
 "metadata": {
  "kernelspec": {
   "display_name": "Python 3 (ipykernel)",
   "language": "python",
   "name": "python3"
  },
  "language_info": {
   "codemirror_mode": {
    "name": "ipython",
    "version": 3
   },
   "file_extension": ".py",
   "mimetype": "text/x-python",
   "name": "python",
   "nbconvert_exporter": "python",
   "pygments_lexer": "ipython3",
   "version": "3.9.7"
  }
 },
 "nbformat": 4,
 "nbformat_minor": 5
}
